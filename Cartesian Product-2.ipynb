{
 "cells": [
  {
   "cell_type": "markdown",
   "id": "462e3959",
   "metadata": {},
   "source": [
    "# All Possible Combinations\n",
    "\n",
    "Export all possible combinations out of given parameters"
   ]
  },
  {
   "cell_type": "code",
   "execution_count": 1,
   "id": "0c6e8a37",
   "metadata": {},
   "outputs": [],
   "source": [
    "import itertools\n",
    "import pandas as pd"
   ]
  },
  {
   "cell_type": "code",
   "execution_count": 2,
   "id": "6b6c0ff8",
   "metadata": {},
   "outputs": [],
   "source": [
    "device = ['phone']\n",
    "model = ['F45']\n",
    "a = ['01', '02']\n",
    "b = ['00','05']\n",
    "c = ['03']\n",
    "d = ['70', '71']\n",
    "e = ['18']\n",
    "f = ['32', '34']\n",
    "\n",
    "all_combinations = []\n",
    "for combination in itertools.product(device, model, a, b, c, d, e, f):\n",
    "    lists = list(combination)\n",
    "    all_combinations.append(lists)"
   ]
  },
  {
   "cell_type": "code",
   "execution_count": 3,
   "id": "9b045cbb",
   "metadata": {},
   "outputs": [
    {
     "data": {
      "text/html": [
       "<div><div id=4f1e7f8b-df9a-41c5-a6a9-8c3cc8e40b05 style=\"display:none; background-color:#9D6CFF; color:white; width:200px; height:30px; padding-left:5px; border-radius:4px; flex-direction:row; justify-content:space-around; align-items:center;\" onmouseover=\"this.style.backgroundColor='#BA9BF8'\" onmouseout=\"this.style.backgroundColor='#9D6CFF'\" onclick=\"window.commands?.execute('create-mitosheet-from-dataframe-output');\">See Full Dataframe in Mito</div> <script> if (window.commands.hasCommand('create-mitosheet-from-dataframe-output')) document.getElementById('4f1e7f8b-df9a-41c5-a6a9-8c3cc8e40b05').style.display = 'flex' </script> <table border=\"1\" class=\"dataframe\">\n",
       "  <thead>\n",
       "    <tr style=\"text-align: right;\">\n",
       "      <th></th>\n",
       "      <th>device</th>\n",
       "      <th>model</th>\n",
       "      <th>a</th>\n",
       "      <th>b</th>\n",
       "      <th>c</th>\n",
       "      <th>d</th>\n",
       "      <th>e</th>\n",
       "      <th>f</th>\n",
       "    </tr>\n",
       "  </thead>\n",
       "  <tbody>\n",
       "    <tr>\n",
       "      <th>0</th>\n",
       "      <td>phone</td>\n",
       "      <td>F45</td>\n",
       "      <td>01</td>\n",
       "      <td>00</td>\n",
       "      <td>03</td>\n",
       "      <td>70</td>\n",
       "      <td>18</td>\n",
       "      <td>32</td>\n",
       "    </tr>\n",
       "    <tr>\n",
       "      <th>1</th>\n",
       "      <td>phone</td>\n",
       "      <td>F45</td>\n",
       "      <td>01</td>\n",
       "      <td>00</td>\n",
       "      <td>03</td>\n",
       "      <td>70</td>\n",
       "      <td>18</td>\n",
       "      <td>34</td>\n",
       "    </tr>\n",
       "    <tr>\n",
       "      <th>2</th>\n",
       "      <td>phone</td>\n",
       "      <td>F45</td>\n",
       "      <td>01</td>\n",
       "      <td>00</td>\n",
       "      <td>03</td>\n",
       "      <td>71</td>\n",
       "      <td>18</td>\n",
       "      <td>32</td>\n",
       "    </tr>\n",
       "    <tr>\n",
       "      <th>3</th>\n",
       "      <td>phone</td>\n",
       "      <td>F45</td>\n",
       "      <td>01</td>\n",
       "      <td>00</td>\n",
       "      <td>03</td>\n",
       "      <td>71</td>\n",
       "      <td>18</td>\n",
       "      <td>34</td>\n",
       "    </tr>\n",
       "    <tr>\n",
       "      <th>4</th>\n",
       "      <td>phone</td>\n",
       "      <td>F45</td>\n",
       "      <td>01</td>\n",
       "      <td>05</td>\n",
       "      <td>03</td>\n",
       "      <td>70</td>\n",
       "      <td>18</td>\n",
       "      <td>32</td>\n",
       "    </tr>\n",
       "  </tbody>\n",
       "</table></div>"
      ],
      "text/plain": [
       "  device model   a   b   c   d   e   f\n",
       "0  phone   F45  01  00  03  70  18  32\n",
       "1  phone   F45  01  00  03  70  18  34\n",
       "2  phone   F45  01  00  03  71  18  32\n",
       "3  phone   F45  01  00  03  71  18  34\n",
       "4  phone   F45  01  05  03  70  18  32"
      ]
     },
     "execution_count": 3,
     "metadata": {},
     "output_type": "execute_result"
    }
   ],
   "source": [
    "df = pd.DataFrame(all_combinations, columns=['device', 'model', 'a', 'b', 'c', 'd', 'e', 'f'])\n",
    "df.head()"
   ]
  },
  {
   "cell_type": "code",
   "execution_count": 4,
   "id": "e91222b2",
   "metadata": {},
   "outputs": [
    {
     "data": {
      "text/html": [
       "<div><div id=4c456866-56ce-4d04-9a37-09d40729e2c9 style=\"display:none; background-color:#9D6CFF; color:white; width:200px; height:30px; padding-left:5px; border-radius:4px; flex-direction:row; justify-content:space-around; align-items:center;\" onmouseover=\"this.style.backgroundColor='#BA9BF8'\" onmouseout=\"this.style.backgroundColor='#9D6CFF'\" onclick=\"window.commands?.execute('create-mitosheet-from-dataframe-output');\">See Full Dataframe in Mito</div> <script> if (window.commands.hasCommand('create-mitosheet-from-dataframe-output')) document.getElementById('4c456866-56ce-4d04-9a37-09d40729e2c9').style.display = 'flex' </script> <table border=\"1\" class=\"dataframe\">\n",
       "  <thead>\n",
       "    <tr style=\"text-align: right;\">\n",
       "      <th></th>\n",
       "      <th>device</th>\n",
       "      <th>model</th>\n",
       "      <th>a</th>\n",
       "      <th>b</th>\n",
       "      <th>c</th>\n",
       "      <th>d</th>\n",
       "      <th>e</th>\n",
       "      <th>f</th>\n",
       "      <th>Concat</th>\n",
       "    </tr>\n",
       "  </thead>\n",
       "  <tbody>\n",
       "    <tr>\n",
       "      <th>0</th>\n",
       "      <td>phone</td>\n",
       "      <td>F45</td>\n",
       "      <td>01</td>\n",
       "      <td>00</td>\n",
       "      <td>03</td>\n",
       "      <td>70</td>\n",
       "      <td>18</td>\n",
       "      <td>32</td>\n",
       "      <td>phoneF45010003701832</td>\n",
       "    </tr>\n",
       "    <tr>\n",
       "      <th>1</th>\n",
       "      <td>phone</td>\n",
       "      <td>F45</td>\n",
       "      <td>01</td>\n",
       "      <td>00</td>\n",
       "      <td>03</td>\n",
       "      <td>70</td>\n",
       "      <td>18</td>\n",
       "      <td>34</td>\n",
       "      <td>phoneF45010003701834</td>\n",
       "    </tr>\n",
       "    <tr>\n",
       "      <th>2</th>\n",
       "      <td>phone</td>\n",
       "      <td>F45</td>\n",
       "      <td>01</td>\n",
       "      <td>00</td>\n",
       "      <td>03</td>\n",
       "      <td>71</td>\n",
       "      <td>18</td>\n",
       "      <td>32</td>\n",
       "      <td>phoneF45010003711832</td>\n",
       "    </tr>\n",
       "    <tr>\n",
       "      <th>3</th>\n",
       "      <td>phone</td>\n",
       "      <td>F45</td>\n",
       "      <td>01</td>\n",
       "      <td>00</td>\n",
       "      <td>03</td>\n",
       "      <td>71</td>\n",
       "      <td>18</td>\n",
       "      <td>34</td>\n",
       "      <td>phoneF45010003711834</td>\n",
       "    </tr>\n",
       "    <tr>\n",
       "      <th>4</th>\n",
       "      <td>phone</td>\n",
       "      <td>F45</td>\n",
       "      <td>01</td>\n",
       "      <td>05</td>\n",
       "      <td>03</td>\n",
       "      <td>70</td>\n",
       "      <td>18</td>\n",
       "      <td>32</td>\n",
       "      <td>phoneF45010503701832</td>\n",
       "    </tr>\n",
       "  </tbody>\n",
       "</table></div>"
      ],
      "text/plain": [
       "  device model   a   b   c   d   e   f                Concat\n",
       "0  phone   F45  01  00  03  70  18  32  phoneF45010003701832\n",
       "1  phone   F45  01  00  03  70  18  34  phoneF45010003701834\n",
       "2  phone   F45  01  00  03  71  18  32  phoneF45010003711832\n",
       "3  phone   F45  01  00  03  71  18  34  phoneF45010003711834\n",
       "4  phone   F45  01  05  03  70  18  32  phoneF45010503701832"
      ]
     },
     "execution_count": 4,
     "metadata": {},
     "output_type": "execute_result"
    }
   ],
   "source": [
    "df['Concat'] = df.apply(lambda row: str(row['device']) + str(row['model']) + str(row['a']) + str(row['b']) + str(row['c']) + str(row['d']) + str(row['e']) + str(row['f']), axis=1)\n",
    "df.head()"
   ]
  },
  {
   "cell_type": "code",
   "execution_count": 5,
   "id": "dd1d0e26",
   "metadata": {},
   "outputs": [
    {
     "data": {
      "text/plain": [
       "(16, 9)"
      ]
     },
     "execution_count": 5,
     "metadata": {},
     "output_type": "execute_result"
    }
   ],
   "source": [
    "# DF shape must match multiplication between lists shape\n",
    "df.shape"
   ]
  },
  {
   "cell_type": "code",
   "execution_count": null,
   "id": "868513d6",
   "metadata": {},
   "outputs": [],
   "source": [
    "import os\n",
    "os.chdir('C:/Users/j_hor/OneDrive/Documentos')\n",
    "df.to_excel('Full Combinations Phone1-F45.xlsx', index=False)"
   ]
  }
 ],
 "metadata": {
  "kernelspec": {
   "display_name": "Python 3 (ipykernel)",
   "language": "python",
   "name": "python3"
  },
  "language_info": {
   "codemirror_mode": {
    "name": "ipython",
    "version": 3
   },
   "file_extension": ".py",
   "mimetype": "text/x-python",
   "name": "python",
   "nbconvert_exporter": "python",
   "pygments_lexer": "ipython3",
   "version": "3.9.18"
  }
 },
 "nbformat": 4,
 "nbformat_minor": 5
}
