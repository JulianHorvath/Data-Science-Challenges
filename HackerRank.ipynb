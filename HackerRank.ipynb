{
 "cells": [
  {
   "cell_type": "markdown",
   "id": "2b4fb85f",
   "metadata": {},
   "source": [
    "# Challenge 1:\n",
    "\n",
    "Given a number n, for each integer i in the range from 1 to n inclusive, print one value per line as follows:\n",
    "\n",
    "* If i is a multiple of both 3 and 5, print 'FizzBuzz'\n",
    "* If i is a multiple of 3 (but not 5), print 'Fizz'\n",
    "* If i is a multiple of 5 (but not 3), print 'Buzz'\n",
    "* If i is not a multiple of 3 or 5, print the value of i.\n",
    "\n",
    "The function must print the appropiate response in ascending order, each on a separate line."
   ]
  },
  {
   "cell_type": "code",
   "execution_count": 1,
   "id": "12ea5eef",
   "metadata": {},
   "outputs": [],
   "source": [
    "import numpy as np\n",
    "import pandas as pd"
   ]
  },
  {
   "cell_type": "code",
   "execution_count": 2,
   "id": "69e06095",
   "metadata": {},
   "outputs": [],
   "source": [
    "def FizzBuzz(n):\n",
    "    multiples_3 = np.arange(3,n+1,3)\n",
    "    multiples_5 = np.arange(5,n+1,5)\n",
    "    for i in range(1,n+1):\n",
    "        if i in multiples_3 and i in multiples_5:\n",
    "            print(\"FizzBuzz\")\n",
    "        elif i in multiples_3 and i not in multiples_5:\n",
    "            print(\"Fizz\")\n",
    "        elif i in multiples_5 and i not in multiples_3:\n",
    "            print(\"Buzz\")\n",
    "        else:\n",
    "            print(i)"
   ]
  },
  {
   "cell_type": "code",
   "execution_count": 3,
   "id": "6e2ace33",
   "metadata": {},
   "outputs": [
    {
     "name": "stdout",
     "output_type": "stream",
     "text": [
      "1\n",
      "2\n",
      "Fizz\n",
      "4\n",
      "Buzz\n",
      "Fizz\n",
      "7\n",
      "8\n",
      "Fizz\n",
      "Buzz\n",
      "11\n",
      "Fizz\n",
      "13\n",
      "14\n",
      "FizzBuzz\n"
     ]
    }
   ],
   "source": [
    "FizzBuzz(15)"
   ]
  },
  {
   "cell_type": "markdown",
   "id": "15877cc5",
   "metadata": {},
   "source": [
    "# Challenge 2:\n",
    "\n",
    "What is the mean Age from the following set of data?"
   ]
  },
  {
   "cell_type": "code",
   "execution_count": 4,
   "id": "13661cd9",
   "metadata": {},
   "outputs": [
    {
     "data": {
      "text/plain": [
       "[{'Name': 'John', 'Surname': 'Collins', 'Team': 'Jazz', 'Age': 25},\n",
       " {'Name': 'Trae', 'Surname': 'Young', 'Team': 'Hawks', 'Age': 24},\n",
       " {'Name': 'Demar', 'Surname': 'Demar', 'Team': 'Bulls', 'Age': 32}]"
      ]
     },
     "execution_count": 4,
     "metadata": {},
     "output_type": "execute_result"
    }
   ],
   "source": [
    "dicts_in_list = [{\"Name\": \"John\", \"Surname\": \"Collins\", \"Team\": \"Jazz\", \"Age\": 25},\n",
    "                 {\"Name\": \"Trae\", \"Surname\": \"Young\", \"Team\": \"Hawks\", \"Age\": 24},\n",
    "                 {\"Name\": \"Demar\", \"Surname\": \"Demar\", \"Team\": \"Bulls\", \"Age\": 32}\n",
    "                ]\n",
    "dicts_in_list"
   ]
  },
  {
   "cell_type": "code",
   "execution_count": 5,
   "id": "450ea218",
   "metadata": {},
   "outputs": [
    {
     "name": "stdout",
     "output_type": "stream",
     "text": [
      "    Name  Surname   Team  Age\n",
      "0   John  Collins   Jazz   25\n",
      "1   Trae    Young  Hawks   24\n",
      "2  Demar    Demar  Bulls   32\n",
      "Mean Age is 27.0\n"
     ]
    }
   ],
   "source": [
    "df = pd.DataFrame.from_dict(dicts_in_list)\n",
    "print(df.head())\n",
    "txt = 'Mean Age is {}'\n",
    "mean = df.Age.mean()\n",
    "print(txt.format(mean))"
   ]
  },
  {
   "cell_type": "markdown",
   "id": "5c1fc1a6",
   "metadata": {},
   "source": [
    "# Challenge 3:\n",
    "\n",
    "Given a NBA stats by player dataset, visualize average points by year, with court position in columns."
   ]
  },
  {
   "cell_type": "markdown",
   "id": "cb5c5666",
   "metadata": {},
   "source": [
    "## Pandas solution"
   ]
  },
  {
   "cell_type": "code",
   "execution_count": 6,
   "id": "46421ce4",
   "metadata": {},
   "outputs": [],
   "source": [
    "import sqlite3\n",
    "import os\n",
    "os.chdir('C:/Users/j_hor/OneDrive/Documentos/Coderhouse/Data Science/Data/Raw')"
   ]
  },
  {
   "cell_type": "code",
   "execution_count": 7,
   "id": "fda3a012",
   "metadata": {},
   "outputs": [
    {
     "data": {
      "text/html": [
       "<div><div id=1ed592f6-e8ce-497b-a3c9-6f7a6cd50147 style=\"display:none; background-color:#9D6CFF; color:white; width:200px; height:30px; padding-left:5px; border-radius:4px; flex-direction:row; justify-content:space-around; align-items:center;\" onmouseover=\"this.style.backgroundColor='#BA9BF8'\" onmouseout=\"this.style.backgroundColor='#9D6CFF'\" onclick=\"window.commands?.execute('create-mitosheet-from-dataframe-output');\">See Full Dataframe in Mito</div> <script> if (window.commands.hasCommand('create-mitosheet-from-dataframe-output')) document.getElementById('1ed592f6-e8ce-497b-a3c9-6f7a6cd50147').style.display = 'flex' </script> <table border=\"1\" class=\"dataframe\">\n",
       "  <thead>\n",
       "    <tr style=\"text-align: right;\">\n",
       "      <th></th>\n",
       "      <th>type</th>\n",
       "      <th>name</th>\n",
       "      <th>tbl_name</th>\n",
       "      <th>rootpage</th>\n",
       "      <th>sql</th>\n",
       "    </tr>\n",
       "  </thead>\n",
       "  <tbody>\n",
       "    <tr>\n",
       "      <th>0</th>\n",
       "      <td>table</td>\n",
       "      <td>NBA_season1718_salary</td>\n",
       "      <td>NBA_season1718_salary</td>\n",
       "      <td>2</td>\n",
       "      <td>CREATE TABLE `NBA_season1718_salary` (\\n  `X1` REAL,\\n  `Player` TEXT,\\n  `Tm` TEXT,\\n  `season17_18` REAL\\n)</td>\n",
       "    </tr>\n",
       "    <tr>\n",
       "      <th>1</th>\n",
       "      <td>table</td>\n",
       "      <td>Seasons_Stats</td>\n",
       "      <td>Seasons_Stats</td>\n",
       "      <td>8</td>\n",
       "      <td>CREATE TABLE `Seasons_Stats` (\\n  `X1` REAL,\\n  `Year` REAL,\\n  `Player` TEXT,\\n  `Pos` TEXT,\\n  `Age` REAL,\\n  `Tm` TEXT,\\n  `G` REAL,\\n  `GS` INTEGER,\\n  `MP` REAL,\\n  `PER` REAL,\\n  `TS%` REAL,\\n  `3PAr` INTEGER,\\n  `FTr` REAL,\\n  `ORB%` INTEGER,\\n  `DRB%` INTEGER,\\n  `TRB%` INTEGER,\\n  `AST%` INTEGER,\\n  `STL%` INTEGER,\\n  `BLK%` INTEGER,\\n  `TOV%` INTEGER,\\n  `USG%` INTEGER,\\n  `blanl` INTEGER,\\n  `OWS` REAL,\\n  `DWS` REAL,\\n  `WS` REAL,\\n  `WS/48` REAL,\\n  `blank2` INTEGER,\\n  `OBPM` INTEGER,\\n  `DBPM` INTEGER,\\n  `BPM` INTEGER,\\n  `VORP` INTEGER,\\n  `FG` REAL,\\n  `FGA` REAL,\\n  `FG%` REAL,\\n  `3P` INTEGER,\\n  `3PA` INTEGER,\\n  `3P%` INTEGER,\\n  `2P` REAL,\\n  `2PA` REAL,\\n  `2P%` REAL,\\n  `eFG%` REAL,\\n  `FT` REAL,\\n  `FTA` REAL,\\n  `FT%` REAL,\\n  `ORB` INTEGER,\\n  `DRB` INTEGER,\\n  `TRB` REAL,\\n  `AST` REAL,\\n  `STL` INTEGER,\\n  `BLK` INTEGER,\\n  `TOV` INTEGER,\\n  `PF` REAL,\\n  `PTS` REAL\\n)</td>\n",
       "    </tr>\n",
       "  </tbody>\n",
       "</table></div>"
      ],
      "text/plain": [
       "    type                   name               tbl_name  rootpage  \\\n",
       "0  table  NBA_season1718_salary  NBA_season1718_salary         2   \n",
       "1  table          Seasons_Stats          Seasons_Stats         8   \n",
       "\n",
       "                                                 sql  \n",
       "0  CREATE TABLE `NBA_season1718_salary` (\\n  `X1`...  \n",
       "1  CREATE TABLE `Seasons_Stats` (\\n  `X1` REAL,\\n...  "
      ]
     },
     "execution_count": 7,
     "metadata": {},
     "output_type": "execute_result"
    }
   ],
   "source": [
    "sql_statement = \"SELECT * FROM sqlite_master WHERE type ='table'\"\n",
    "connection = sqlite3.connect('nba_salary.sqlite')\n",
    "raw_data = pd.read_sql_query(sql_statement, connection)\n",
    "raw_data"
   ]
  },
  {
   "cell_type": "code",
   "execution_count": 8,
   "id": "a73d2e07",
   "metadata": {},
   "outputs": [
    {
     "data": {
      "text/html": [
       "<div><div id=b35e4f7f-361b-45bf-9375-77c24258eb56 style=\"display:none; background-color:#9D6CFF; color:white; width:200px; height:30px; padding-left:5px; border-radius:4px; flex-direction:row; justify-content:space-around; align-items:center;\" onmouseover=\"this.style.backgroundColor='#BA9BF8'\" onmouseout=\"this.style.backgroundColor='#9D6CFF'\" onclick=\"window.commands?.execute('create-mitosheet-from-dataframe-output');\">See Full Dataframe in Mito</div> <script> if (window.commands.hasCommand('create-mitosheet-from-dataframe-output')) document.getElementById('b35e4f7f-361b-45bf-9375-77c24258eb56').style.display = 'flex' </script> <table border=\"1\" class=\"dataframe\">\n",
       "  <thead>\n",
       "    <tr style=\"text-align: right;\">\n",
       "      <th></th>\n",
       "      <th>X1</th>\n",
       "      <th>Year</th>\n",
       "      <th>Player</th>\n",
       "      <th>Pos</th>\n",
       "      <th>Age</th>\n",
       "      <th>Tm</th>\n",
       "      <th>G</th>\n",
       "      <th>GS</th>\n",
       "      <th>MP</th>\n",
       "      <th>PER</th>\n",
       "      <th>...</th>\n",
       "      <th>FT%</th>\n",
       "      <th>ORB</th>\n",
       "      <th>DRB</th>\n",
       "      <th>TRB</th>\n",
       "      <th>AST</th>\n",
       "      <th>STL</th>\n",
       "      <th>BLK</th>\n",
       "      <th>TOV</th>\n",
       "      <th>PF</th>\n",
       "      <th>PTS</th>\n",
       "    </tr>\n",
       "  </thead>\n",
       "  <tbody>\n",
       "    <tr>\n",
       "      <th>0</th>\n",
       "      <td>0.0</td>\n",
       "      <td>1950.0</td>\n",
       "      <td>Curly Armstrong</td>\n",
       "      <td>G-F</td>\n",
       "      <td>31.0</td>\n",
       "      <td>FTW</td>\n",
       "      <td>63.0</td>\n",
       "      <td>NaN</td>\n",
       "      <td>NaN</td>\n",
       "      <td>NaN</td>\n",
       "      <td>...</td>\n",
       "      <td>0.705</td>\n",
       "      <td>NaN</td>\n",
       "      <td>NaN</td>\n",
       "      <td>NaN</td>\n",
       "      <td>176.0</td>\n",
       "      <td>NaN</td>\n",
       "      <td>NaN</td>\n",
       "      <td>NaN</td>\n",
       "      <td>217.0</td>\n",
       "      <td>458.0</td>\n",
       "    </tr>\n",
       "    <tr>\n",
       "      <th>1</th>\n",
       "      <td>1.0</td>\n",
       "      <td>1950.0</td>\n",
       "      <td>Cliff Barker</td>\n",
       "      <td>SG</td>\n",
       "      <td>29.0</td>\n",
       "      <td>INO</td>\n",
       "      <td>49.0</td>\n",
       "      <td>NaN</td>\n",
       "      <td>NaN</td>\n",
       "      <td>NaN</td>\n",
       "      <td>...</td>\n",
       "      <td>0.708</td>\n",
       "      <td>NaN</td>\n",
       "      <td>NaN</td>\n",
       "      <td>NaN</td>\n",
       "      <td>109.0</td>\n",
       "      <td>NaN</td>\n",
       "      <td>NaN</td>\n",
       "      <td>NaN</td>\n",
       "      <td>99.0</td>\n",
       "      <td>279.0</td>\n",
       "    </tr>\n",
       "    <tr>\n",
       "      <th>2</th>\n",
       "      <td>2.0</td>\n",
       "      <td>1950.0</td>\n",
       "      <td>Leo Barnhorst</td>\n",
       "      <td>SF</td>\n",
       "      <td>25.0</td>\n",
       "      <td>CHS</td>\n",
       "      <td>67.0</td>\n",
       "      <td>NaN</td>\n",
       "      <td>NaN</td>\n",
       "      <td>NaN</td>\n",
       "      <td>...</td>\n",
       "      <td>0.698</td>\n",
       "      <td>NaN</td>\n",
       "      <td>NaN</td>\n",
       "      <td>NaN</td>\n",
       "      <td>140.0</td>\n",
       "      <td>NaN</td>\n",
       "      <td>NaN</td>\n",
       "      <td>NaN</td>\n",
       "      <td>192.0</td>\n",
       "      <td>438.0</td>\n",
       "    </tr>\n",
       "    <tr>\n",
       "      <th>3</th>\n",
       "      <td>3.0</td>\n",
       "      <td>1950.0</td>\n",
       "      <td>Ed Bartels</td>\n",
       "      <td>F</td>\n",
       "      <td>24.0</td>\n",
       "      <td>TOT</td>\n",
       "      <td>15.0</td>\n",
       "      <td>NaN</td>\n",
       "      <td>NaN</td>\n",
       "      <td>NaN</td>\n",
       "      <td>...</td>\n",
       "      <td>0.559</td>\n",
       "      <td>NaN</td>\n",
       "      <td>NaN</td>\n",
       "      <td>NaN</td>\n",
       "      <td>20.0</td>\n",
       "      <td>NaN</td>\n",
       "      <td>NaN</td>\n",
       "      <td>NaN</td>\n",
       "      <td>29.0</td>\n",
       "      <td>63.0</td>\n",
       "    </tr>\n",
       "    <tr>\n",
       "      <th>4</th>\n",
       "      <td>4.0</td>\n",
       "      <td>1950.0</td>\n",
       "      <td>Ed Bartels</td>\n",
       "      <td>F</td>\n",
       "      <td>24.0</td>\n",
       "      <td>DNN</td>\n",
       "      <td>13.0</td>\n",
       "      <td>NaN</td>\n",
       "      <td>NaN</td>\n",
       "      <td>NaN</td>\n",
       "      <td>...</td>\n",
       "      <td>0.548</td>\n",
       "      <td>NaN</td>\n",
       "      <td>NaN</td>\n",
       "      <td>NaN</td>\n",
       "      <td>20.0</td>\n",
       "      <td>NaN</td>\n",
       "      <td>NaN</td>\n",
       "      <td>NaN</td>\n",
       "      <td>27.0</td>\n",
       "      <td>59.0</td>\n",
       "    </tr>\n",
       "  </tbody>\n",
       "</table></div>"
      ],
      "text/plain": [
       "    X1    Year           Player  Pos   Age   Tm     G  GS  MP  PER  ...  \\\n",
       "0  0.0  1950.0  Curly Armstrong  G-F  31.0  FTW  63.0 NaN NaN  NaN  ...   \n",
       "1  1.0  1950.0     Cliff Barker   SG  29.0  INO  49.0 NaN NaN  NaN  ...   \n",
       "2  2.0  1950.0    Leo Barnhorst   SF  25.0  CHS  67.0 NaN NaN  NaN  ...   \n",
       "3  3.0  1950.0       Ed Bartels    F  24.0  TOT  15.0 NaN NaN  NaN  ...   \n",
       "4  4.0  1950.0       Ed Bartels    F  24.0  DNN  13.0 NaN NaN  NaN  ...   \n",
       "\n",
       "     FT%  ORB  DRB  TRB    AST  STL  BLK  TOV     PF    PTS  \n",
       "0  0.705  NaN  NaN  NaN  176.0  NaN  NaN  NaN  217.0  458.0  \n",
       "1  0.708  NaN  NaN  NaN  109.0  NaN  NaN  NaN   99.0  279.0  \n",
       "2  0.698  NaN  NaN  NaN  140.0  NaN  NaN  NaN  192.0  438.0  \n",
       "3  0.559  NaN  NaN  NaN   20.0  NaN  NaN  NaN   29.0   63.0  \n",
       "4  0.548  NaN  NaN  NaN   20.0  NaN  NaN  NaN   27.0   59.0  \n",
       "\n",
       "[5 rows x 53 columns]"
      ]
     },
     "execution_count": 8,
     "metadata": {},
     "output_type": "execute_result"
    }
   ],
   "source": [
    "stats_table = \"SELECT * FROM Seasons_Stats\"\n",
    "df = pd.read_sql_query(stats_table, connection)\n",
    "df.head()"
   ]
  },
  {
   "cell_type": "code",
   "execution_count": 9,
   "id": "03cfc2d7",
   "metadata": {},
   "outputs": [
    {
     "data": {
      "text/plain": [
       "X1            0\n",
       "Year         67\n",
       "Player       67\n",
       "Pos          67\n",
       "Age          75\n",
       "Tm           67\n",
       "G            67\n",
       "GS        18444\n",
       "MP          553\n",
       "PER         590\n",
       "TS%         153\n",
       "3PAr      21239\n",
       "FTr         166\n",
       "ORB%      23714\n",
       "DRB%      24320\n",
       "TRB%      24436\n",
       "AST%      23926\n",
       "STL%      22672\n",
       "BLK%      21652\n",
       "TOV%      24241\n",
       "USG%      24633\n",
       "blanl     24691\n",
       "OWS         106\n",
       "DWS         106\n",
       "WS          106\n",
       "WS/48       590\n",
       "blank2    24691\n",
       "OBPM      24191\n",
       "DBPM      23975\n",
       "BPM       24279\n",
       "VORP      21604\n",
       "FG           67\n",
       "FGA          67\n",
       "FG%         166\n",
       "3P        16021\n",
       "3PA       19516\n",
       "3P%       20893\n",
       "2P           67\n",
       "2PA          67\n",
       "2P%         195\n",
       "eFG%        166\n",
       "FT           67\n",
       "FTA          67\n",
       "FT%         925\n",
       "ORB       23158\n",
       "DRB       23956\n",
       "TRB         379\n",
       "AST          67\n",
       "STL       22794\n",
       "BLK       21000\n",
       "TOV       23761\n",
       "PF           67\n",
       "PTS          67\n",
       "dtype: int64"
      ]
     },
     "execution_count": 9,
     "metadata": {},
     "output_type": "execute_result"
    }
   ],
   "source": [
    "df.isnull().sum(axis=0)"
   ]
  },
  {
   "cell_type": "code",
   "execution_count": 10,
   "id": "883e162c",
   "metadata": {},
   "outputs": [
    {
     "name": "stdout",
     "output_type": "stream",
     "text": [
      "Index(['X1', 'Year', 'Player', 'Pos', 'Age', 'Tm', 'G', 'GS', 'MP', 'PER',\n",
      "       'TS%', '3PAr', 'FTr', 'ORB%', 'DRB%', 'TRB%', 'AST%', 'STL%', 'BLK%',\n",
      "       'TOV%', 'USG%', 'blanl', 'OWS', 'DWS', 'WS', 'WS/48', 'blank2', 'OBPM',\n",
      "       'DBPM', 'BPM', 'VORP', 'FG', 'FGA', 'FG%', '3P', '3PA', '3P%', '2P',\n",
      "       '2PA', '2P%', 'eFG%', 'FT', 'FTA', 'FT%', 'ORB', 'DRB', 'TRB', 'AST',\n",
      "       'STL', 'BLK', 'TOV', 'PF', 'PTS'],\n",
      "      dtype='object')\n",
      "['G-F' 'SG' 'SF' 'F' 'G' 'F-C' 'PG' 'F-G' 'C' 'PF' 'C-F' None 'PF-C'\n",
      " 'SF-SG' 'C-PF' 'SG-SF' 'PF-SF' 'SF-PF' 'SG-PG' 'SF-PG' 'C-SF' 'PG-SG'\n",
      " 'PG-SF' 'SG-PF']\n"
     ]
    }
   ],
   "source": [
    "print(df.columns)\n",
    "print(df.Pos.unique())"
   ]
  },
  {
   "cell_type": "code",
   "execution_count": 11,
   "id": "c227413a",
   "metadata": {},
   "outputs": [
    {
     "data": {
      "text/plain": [
       "array(['All-Around', 'Back-court', 'Front-court'], dtype=object)"
      ]
     },
     "execution_count": 11,
     "metadata": {},
     "output_type": "execute_result"
    }
   ],
   "source": [
    "backcourt = ['PG','SG','G','SG-PG','PG-SG']\n",
    "frontcourt = ['SF','PF','C','F','F-C','C-F','PF-C','C-PF','PF-SF','SF-PF','C-SF']\n",
    "df['Pos']= df.Pos.apply(lambda x: 'Back-court' if x in backcourt else 'Front-court' if x in frontcourt else 'All-Around')\n",
    "df.Pos.unique()"
   ]
  },
  {
   "cell_type": "code",
   "execution_count": 12,
   "id": "cf34d709",
   "metadata": {},
   "outputs": [],
   "source": [
    "# Drop nulls\n",
    "df.dropna(subset=['PTS','Year'], inplace=True)"
   ]
  },
  {
   "cell_type": "code",
   "execution_count": 13,
   "id": "b23b5747",
   "metadata": {},
   "outputs": [
    {
     "data": {
      "text/plain": [
       "Year    0\n",
       "Pos     0\n",
       "PTS     0\n",
       "dtype: int64"
      ]
     },
     "execution_count": 13,
     "metadata": {},
     "output_type": "execute_result"
    }
   ],
   "source": [
    "df[['Year','Pos','PTS']].isnull().sum(axis=0)"
   ]
  },
  {
   "cell_type": "code",
   "execution_count": 14,
   "id": "414e80d0",
   "metadata": {},
   "outputs": [
    {
     "data": {
      "text/plain": [
       "numpy.int32"
      ]
     },
     "execution_count": 14,
     "metadata": {},
     "output_type": "execute_result"
    }
   ],
   "source": [
    "df['Year'] = df['Year'].astype(int)\n",
    "type(df.Year[0])"
   ]
  },
  {
   "cell_type": "code",
   "execution_count": 15,
   "id": "ca35afd9",
   "metadata": {},
   "outputs": [
    {
     "data": {
      "text/html": [
       "<div><div id=f0891795-aff0-41ec-88f6-cdf2a46b3970 style=\"display:none; background-color:#9D6CFF; color:white; width:200px; height:30px; padding-left:5px; border-radius:4px; flex-direction:row; justify-content:space-around; align-items:center;\" onmouseover=\"this.style.backgroundColor='#BA9BF8'\" onmouseout=\"this.style.backgroundColor='#9D6CFF'\" onclick=\"window.commands?.execute('create-mitosheet-from-dataframe-output');\">See Full Dataframe in Mito</div> <script> if (window.commands.hasCommand('create-mitosheet-from-dataframe-output')) document.getElementById('f0891795-aff0-41ec-88f6-cdf2a46b3970').style.display = 'flex' </script> <table border=\"1\" class=\"dataframe\">\n",
       "  <thead>\n",
       "    <tr style=\"text-align: right;\">\n",
       "      <th>Pos</th>\n",
       "      <th>All-Around</th>\n",
       "      <th>Back-court</th>\n",
       "      <th>Front-court</th>\n",
       "    </tr>\n",
       "    <tr>\n",
       "      <th>Year</th>\n",
       "      <th></th>\n",
       "      <th></th>\n",
       "      <th></th>\n",
       "    </tr>\n",
       "  </thead>\n",
       "  <tbody>\n",
       "    <tr>\n",
       "      <th>2013</th>\n",
       "      <td>235.0</td>\n",
       "      <td>484.473451</td>\n",
       "      <td>426.052174</td>\n",
       "    </tr>\n",
       "    <tr>\n",
       "      <th>2014</th>\n",
       "      <td>403.0</td>\n",
       "      <td>469.955466</td>\n",
       "      <td>422.870523</td>\n",
       "    </tr>\n",
       "    <tr>\n",
       "      <th>2015</th>\n",
       "      <td>305.5</td>\n",
       "      <td>452.458333</td>\n",
       "      <td>409.288089</td>\n",
       "    </tr>\n",
       "    <tr>\n",
       "      <th>2016</th>\n",
       "      <td>107.0</td>\n",
       "      <td>487.416327</td>\n",
       "      <td>450.644578</td>\n",
       "    </tr>\n",
       "    <tr>\n",
       "      <th>2017</th>\n",
       "      <td>NaN</td>\n",
       "      <td>505.356846</td>\n",
       "      <td>453.884181</td>\n",
       "    </tr>\n",
       "  </tbody>\n",
       "</table></div>"
      ],
      "text/plain": [
       "Pos   All-Around  Back-court  Front-court\n",
       "Year                                     \n",
       "2013       235.0  484.473451   426.052174\n",
       "2014       403.0  469.955466   422.870523\n",
       "2015       305.5  452.458333   409.288089\n",
       "2016       107.0  487.416327   450.644578\n",
       "2017         NaN  505.356846   453.884181"
      ]
     },
     "execution_count": 15,
     "metadata": {},
     "output_type": "execute_result"
    }
   ],
   "source": [
    "df_pivoted = df[['Year','Pos','PTS']]\n",
    "df_pivoted = pd.pivot_table(df_pivoted, values='PTS', index='Year', columns=['Pos'], aggfunc=\"mean\")\n",
    "df_pivoted.tail()"
   ]
  },
  {
   "cell_type": "markdown",
   "id": "236302ac",
   "metadata": {},
   "source": [
    "## SQL solution"
   ]
  },
  {
   "cell_type": "code",
   "execution_count": 16,
   "id": "e4466b24",
   "metadata": {},
   "outputs": [
    {
     "data": {
      "text/html": [
       "<div><div id=38ee9b09-e5f3-4751-8fed-3377fccaee09 style=\"display:none; background-color:#9D6CFF; color:white; width:200px; height:30px; padding-left:5px; border-radius:4px; flex-direction:row; justify-content:space-around; align-items:center;\" onmouseover=\"this.style.backgroundColor='#BA9BF8'\" onmouseout=\"this.style.backgroundColor='#9D6CFF'\" onclick=\"window.commands?.execute('create-mitosheet-from-dataframe-output');\">See Full Dataframe in Mito</div> <script> if (window.commands.hasCommand('create-mitosheet-from-dataframe-output')) document.getElementById('38ee9b09-e5f3-4751-8fed-3377fccaee09').style.display = 'flex' </script> <table border=\"1\" class=\"dataframe\">\n",
       "  <thead>\n",
       "    <tr style=\"text-align: right;\">\n",
       "      <th></th>\n",
       "      <th>Year</th>\n",
       "      <th>PTS</th>\n",
       "      <th>Category</th>\n",
       "    </tr>\n",
       "  </thead>\n",
       "  <tbody>\n",
       "    <tr>\n",
       "      <th>0</th>\n",
       "      <td>1950.0</td>\n",
       "      <td>458.0</td>\n",
       "      <td>All-Around</td>\n",
       "    </tr>\n",
       "    <tr>\n",
       "      <th>1</th>\n",
       "      <td>1950.0</td>\n",
       "      <td>279.0</td>\n",
       "      <td>Back-court</td>\n",
       "    </tr>\n",
       "    <tr>\n",
       "      <th>2</th>\n",
       "      <td>1950.0</td>\n",
       "      <td>438.0</td>\n",
       "      <td>Front-court</td>\n",
       "    </tr>\n",
       "    <tr>\n",
       "      <th>3</th>\n",
       "      <td>1950.0</td>\n",
       "      <td>63.0</td>\n",
       "      <td>Front-court</td>\n",
       "    </tr>\n",
       "    <tr>\n",
       "      <th>4</th>\n",
       "      <td>1950.0</td>\n",
       "      <td>59.0</td>\n",
       "      <td>Front-court</td>\n",
       "    </tr>\n",
       "    <tr>\n",
       "      <th>...</th>\n",
       "      <td>...</td>\n",
       "      <td>...</td>\n",
       "      <td>...</td>\n",
       "    </tr>\n",
       "    <tr>\n",
       "      <th>24619</th>\n",
       "      <td>2017.0</td>\n",
       "      <td>639.0</td>\n",
       "      <td>Front-court</td>\n",
       "    </tr>\n",
       "    <tr>\n",
       "      <th>24620</th>\n",
       "      <td>2017.0</td>\n",
       "      <td>178.0</td>\n",
       "      <td>Front-court</td>\n",
       "    </tr>\n",
       "    <tr>\n",
       "      <th>24621</th>\n",
       "      <td>2017.0</td>\n",
       "      <td>23.0</td>\n",
       "      <td>Front-court</td>\n",
       "    </tr>\n",
       "    <tr>\n",
       "      <th>24622</th>\n",
       "      <td>2017.0</td>\n",
       "      <td>240.0</td>\n",
       "      <td>Front-court</td>\n",
       "    </tr>\n",
       "    <tr>\n",
       "      <th>24623</th>\n",
       "      <td>2017.0</td>\n",
       "      <td>284.0</td>\n",
       "      <td>Front-court</td>\n",
       "    </tr>\n",
       "  </tbody>\n",
       "</table></div>"
      ],
      "text/plain": [
       "         Year    PTS     Category\n",
       "0      1950.0  458.0   All-Around\n",
       "1      1950.0  279.0   Back-court\n",
       "2      1950.0  438.0  Front-court\n",
       "3      1950.0   63.0  Front-court\n",
       "4      1950.0   59.0  Front-court\n",
       "...       ...    ...          ...\n",
       "24619  2017.0  639.0  Front-court\n",
       "24620  2017.0  178.0  Front-court\n",
       "24621  2017.0   23.0  Front-court\n",
       "24622  2017.0  240.0  Front-court\n",
       "24623  2017.0  284.0  Front-court\n",
       "\n",
       "[24624 rows x 3 columns]"
      ]
     },
     "execution_count": 16,
     "metadata": {},
     "output_type": "execute_result"
    }
   ],
   "source": [
    "sql_solution = \"SELECT Year, PTS, CASE WHEN Pos IN ('PG','SG','G','SG-PG','PG-SG') THEN 'Back-court' WHEN Pos IN ('SF','PF','C','F','F-C','C-F','PF-C','C-PF','PF-SF','SF-PF','C-SF') THEN 'Front-court' ELSE 'All-Around' END AS Category FROM Seasons_Stats WHERE Year IS NOT NULL\"\n",
    "df_transposed = pd.read_sql_query(sql_solution, connection)\n",
    "df_transposed"
   ]
  },
  {
   "cell_type": "code",
   "execution_count": null,
   "id": "a1b3f484",
   "metadata": {},
   "outputs": [],
   "source": [
    "sql_solution = \"SELECT Year, [Back-court], [Front-court], [All-Around] \\\n",
    "                FROM (SELECT Year, PTS, \\\n",
    "                CASE WHEN Pos IN ('PG','SG','G','SG-PG','PG-SG') THEN 'Back-court' WHEN Pos IN ('SF','PF','C','F','F-C','C-F','PF-C','C-PF','PF-SF','SF-PF','C-SF') THEN 'Front-court' ELSE 'All-Around' END AS Position \\\n",
    "                FROM Seasons_Stats \\\n",
    "                WHERE Year IS NOT NULL) AS PivotTable \\\n",
    "                PIVOT \\\n",
    "                ( \\\n",
    "                    AVG(PTS) \\\n",
    "                    FOR Position IN ([Back-court], [Front-court], [All-Around]) \\\n",
    "                ) AS Pivoted\"\n",
    "df_transposed = pd.read_sql_query(sql_solution, connection)\n",
    "df_transposed"
   ]
  },
  {
   "cell_type": "code",
   "execution_count": 18,
   "id": "f8f84525",
   "metadata": {},
   "outputs": [
    {
     "data": {
      "text/html": [
       "<div><div id=66f11356-2246-4438-a65a-b235e51d32fc style=\"display:none; background-color:#9D6CFF; color:white; width:200px; height:30px; padding-left:5px; border-radius:4px; flex-direction:row; justify-content:space-around; align-items:center;\" onmouseover=\"this.style.backgroundColor='#BA9BF8'\" onmouseout=\"this.style.backgroundColor='#9D6CFF'\" onclick=\"window.commands?.execute('create-mitosheet-from-dataframe-output');\">See Full Dataframe in Mito</div> <script> if (window.commands.hasCommand('create-mitosheet-from-dataframe-output')) document.getElementById('66f11356-2246-4438-a65a-b235e51d32fc').style.display = 'flex' </script> <table border=\"1\" class=\"dataframe\">\n",
       "  <thead>\n",
       "    <tr>\n",
       "      <th></th>\n",
       "      <th colspan=\"3\" halign=\"left\">PTS</th>\n",
       "    </tr>\n",
       "    <tr>\n",
       "      <th>Category</th>\n",
       "      <th>All-Around</th>\n",
       "      <th>Back-court</th>\n",
       "      <th>Front-court</th>\n",
       "    </tr>\n",
       "    <tr>\n",
       "      <th>Year</th>\n",
       "      <th></th>\n",
       "      <th></th>\n",
       "      <th></th>\n",
       "    </tr>\n",
       "  </thead>\n",
       "  <tbody>\n",
       "    <tr>\n",
       "      <th>1950.0</th>\n",
       "      <td>275.000000</td>\n",
       "      <td>329.469880</td>\n",
       "      <td>361.542484</td>\n",
       "    </tr>\n",
       "    <tr>\n",
       "      <th>1951.0</th>\n",
       "      <td>232.370370</td>\n",
       "      <td>430.500000</td>\n",
       "      <td>388.722772</td>\n",
       "    </tr>\n",
       "    <tr>\n",
       "      <th>1952.0</th>\n",
       "      <td>164.000000</td>\n",
       "      <td>438.979167</td>\n",
       "      <td>462.443038</td>\n",
       "    </tr>\n",
       "    <tr>\n",
       "      <th>1953.0</th>\n",
       "      <td>216.666667</td>\n",
       "      <td>358.820896</td>\n",
       "      <td>448.448276</td>\n",
       "    </tr>\n",
       "    <tr>\n",
       "      <th>1954.0</th>\n",
       "      <td>242.000000</td>\n",
       "      <td>420.240000</td>\n",
       "      <td>427.291139</td>\n",
       "    </tr>\n",
       "    <tr>\n",
       "      <th>...</th>\n",
       "      <td>...</td>\n",
       "      <td>...</td>\n",
       "      <td>...</td>\n",
       "    </tr>\n",
       "    <tr>\n",
       "      <th>2013.0</th>\n",
       "      <td>235.000000</td>\n",
       "      <td>484.473451</td>\n",
       "      <td>426.052174</td>\n",
       "    </tr>\n",
       "    <tr>\n",
       "      <th>2014.0</th>\n",
       "      <td>403.000000</td>\n",
       "      <td>469.955466</td>\n",
       "      <td>422.870523</td>\n",
       "    </tr>\n",
       "    <tr>\n",
       "      <th>2015.0</th>\n",
       "      <td>305.500000</td>\n",
       "      <td>452.458333</td>\n",
       "      <td>409.288089</td>\n",
       "    </tr>\n",
       "    <tr>\n",
       "      <th>2016.0</th>\n",
       "      <td>107.000000</td>\n",
       "      <td>487.416327</td>\n",
       "      <td>450.644578</td>\n",
       "    </tr>\n",
       "    <tr>\n",
       "      <th>2017.0</th>\n",
       "      <td>NaN</td>\n",
       "      <td>505.356846</td>\n",
       "      <td>453.884181</td>\n",
       "    </tr>\n",
       "  </tbody>\n",
       "</table></div>"
      ],
      "text/plain": [
       "                 PTS                        \n",
       "Category  All-Around  Back-court Front-court\n",
       "Year                                        \n",
       "1950.0    275.000000  329.469880  361.542484\n",
       "1951.0    232.370370  430.500000  388.722772\n",
       "1952.0    164.000000  438.979167  462.443038\n",
       "1953.0    216.666667  358.820896  448.448276\n",
       "1954.0    242.000000  420.240000  427.291139\n",
       "...              ...         ...         ...\n",
       "2013.0    235.000000  484.473451  426.052174\n",
       "2014.0    403.000000  469.955466  422.870523\n",
       "2015.0    305.500000  452.458333  409.288089\n",
       "2016.0    107.000000  487.416327  450.644578\n",
       "2017.0           NaN  505.356846  453.884181\n",
       "\n",
       "[68 rows x 3 columns]"
      ]
     },
     "execution_count": 18,
     "metadata": {},
     "output_type": "execute_result"
    }
   ],
   "source": [
    "pd.pivot_table(df_transposed, values=['PTS'], index='Year', columns=['Category'], aggfunc=\"mean\")"
   ]
  },
  {
   "cell_type": "code",
   "execution_count": 19,
   "id": "3739ddd2",
   "metadata": {},
   "outputs": [],
   "source": [
    "connection.close()"
   ]
  }
 ],
 "metadata": {
  "kernelspec": {
   "display_name": "Python 3 (ipykernel)",
   "language": "python",
   "name": "python3"
  },
  "language_info": {
   "codemirror_mode": {
    "name": "ipython",
    "version": 3
   },
   "file_extension": ".py",
   "mimetype": "text/x-python",
   "name": "python",
   "nbconvert_exporter": "python",
   "pygments_lexer": "ipython3",
   "version": "3.9.18"
  }
 },
 "nbformat": 4,
 "nbformat_minor": 5
}
